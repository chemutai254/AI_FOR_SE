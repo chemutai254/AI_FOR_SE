{
 "cells": [
  {
   "cell_type": "markdown",
   "id": "4533172c",
   "metadata": {},
   "source": [
    "# **AI Powered Code Implementation**"
   ]
  },
  {
   "cell_type": "code",
   "execution_count": 1,
   "id": "476bddde",
   "metadata": {},
   "outputs": [],
   "source": [
    "def sort_list_of_dicts(items, sort_key, reverse=False, missing='last', in_place=False):\n",
    "    \"\"\"\n",
    "    Sort a list of dictionaries by a specified key.\n",
    "\n",
    "    Args:\n",
    "        items (list): list of dicts to sort.\n",
    "        sort_key (str | callable): dictionary key name or a callable that accepts a dict and returns the sort value.\n",
    "        reverse (bool): whether to reverse the final order.\n",
    "        missing (str): how to place items missing the key; 'last' (default) or 'first'.\n",
    "        in_place (bool): if True, sort the provided list in place and return it; otherwise return a new list.\n",
    "\n",
    "    Returns:\n",
    "        list: sorted list of dictionaries (same object if in_place=True).\n",
    "    \n",
    "    Notes:\n",
    "        - Items that lack the key are grouped at the start ('first') or end ('last') regardless of their values.\n",
    "        - The function wraps extracted values in a tuple so missing-position behavior is stable and predictable.\n",
    "    \"\"\"\n",
    "    if missing not in ('last', 'first'):\n",
    "        raise ValueError(\"missing must be 'last' or 'first'\")\n",
    "\n",
    "    missing_flag = 1 if missing == 'last' else -1\n",
    "\n",
    "    if callable(sort_key):\n",
    "        def key_func(d):\n",
    "            try:\n",
    "                return (0, sort_key(d))\n",
    "            except Exception:\n",
    "                return (missing_flag, None)\n",
    "    else:\n",
    "        def key_func(d):\n",
    "            if sort_key in d:\n",
    "                return (0, d[sort_key])\n",
    "            return (missing_flag, None)\n",
    "\n",
    "    if in_place:\n",
    "        items.sort(key=key_func)\n",
    "        if reverse:\n",
    "            items.reverse()\n",
    "        return items\n",
    "\n",
    "    result = sorted(items, key=key_func)\n",
    "    if reverse:\n",
    "        result.reverse()\n",
    "    return result"
   ]
  },
  {
   "cell_type": "code",
   "execution_count": null,
   "id": "4894fd5d",
   "metadata": {},
   "outputs": [],
   "source": []
  }
 ],
 "metadata": {
  "kernelspec": {
   "display_name": "base",
   "language": "python",
   "name": "python3"
  },
  "language_info": {
   "codemirror_mode": {
    "name": "ipython",
    "version": 3
   },
   "file_extension": ".py",
   "mimetype": "text/x-python",
   "name": "python",
   "nbconvert_exporter": "python",
   "pygments_lexer": "ipython3",
   "version": "3.11.5"
  }
 },
 "nbformat": 4,
 "nbformat_minor": 5
}
