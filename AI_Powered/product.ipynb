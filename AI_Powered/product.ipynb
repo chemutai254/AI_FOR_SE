{
 "cells": [
  {
   "cell_type": "markdown",
   "id": "453771d6",
   "metadata": {},
   "source": [
    "# **Product Dictionary Function**"
   ]
  },
  {
   "cell_type": "code",
   "execution_count": null,
   "id": "8907f4d5",
   "metadata": {},
   "outputs": [],
   "source": [
    "# %pip install \"numpy<2\""
   ]
  },
  {
   "cell_type": "code",
   "execution_count": 5,
   "id": "72229bc7",
   "metadata": {},
   "outputs": [],
   "source": [
    "# A list of the disctioanary of products\n",
    "products = [\n",
    "    {\"Product_ID\": \"P001\", \"Product_Name\": \"Wireless Bluetooth Earbuds\", \"Category\": \"Electronics\", \"Brand\": \"SoundWave\", \"Price_USD\": 49.99, \"Stock\": 120, \"Rating\": 4.5, \"Launch_Date\": \"2024-03-12\", \"Discount_%\": 10, \"In_Stock\": \"Yes\"},\n",
    "    {\"Product_ID\": \"P002\", \"Product_Name\": \"Smart Fitness Watch\", \"Category\": \"Electronics\", \"Brand\": \"FitTrack\", \"Price_USD\": 89.50, \"Stock\": 85, \"Rating\": 4.3, \"Launch_Date\": \"2023-11-05\", \"Discount_%\": 5, \"In_Stock\": \"Yes\"},\n",
    "    {\"Product_ID\": \"P003\", \"Product_Name\": \"Cotton Crewneck T-Shirt\", \"Category\": \"Clothing\", \"Brand\": \"UrbanWear\", \"Price_USD\": 15.99, \"Stock\": 200, \"Rating\": 4.2, \"Launch_Date\": \"2024-05-20\", \"Discount_%\": 20, \"In_Stock\": \"Yes\"},\n",
    "    {\"Product_ID\": \"P004\", \"Product_Name\": \"Leather Wallet\", \"Category\": \"Accessories\", \"Brand\": \"LuxeCraft\", \"Price_USD\": 39.99, \"Stock\": 60, \"Rating\": 4.4, \"Launch_Date\": \"2024-02-18\", \"Discount_%\": 15, \"In_Stock\": \"Yes\"},\n",
    "    {\"Product_ID\": \"P005\", \"Product_Name\": \"Stainless Steel Water Bottle\", \"Category\": \"Home & Kitchen\", \"Brand\": \"AquaPure\", \"Price_USD\": 24.99, \"Stock\": 150, \"Rating\": 4.6, \"Launch_Date\": \"2023-09-10\", \"Discount_%\": 10, \"In_Stock\": \"Yes\"},\n",
    "    {\"Product_ID\": \"P006\", \"Product_Name\": \"Ceramic Coffee Mug Set (4pcs)\", \"Category\": \"Home & Kitchen\", \"Brand\": \"CozyHome\", \"Price_USD\": 18.50, \"Stock\": 95, \"Rating\": 4.1, \"Launch_Date\": \"2024-06-22\", \"Discount_%\": 0, \"In_Stock\": \"Yes\"},\n",
    "    {\"Product_ID\": \"P007\", \"Product_Name\": \"Gaming Mouse RGB\", \"Category\": \"Electronics\", \"Brand\": \"HyperClick\", \"Price_USD\": 39.00, \"Stock\": 110, \"Rating\": 4.7, \"Launch_Date\": \"2024-04-07\", \"Discount_%\": 12, \"In_Stock\": \"Yes\"},\n",
    "    {\"Product_ID\": \"P008\", \"Product_Name\": \"Running Shoes\", \"Category\": \"Footwear\", \"Brand\": \"AeroStep\", \"Price_USD\": 64.99, \"Stock\": 75, \"Rating\": 4.3, \"Launch_Date\": \"2023-12-02\", \"Discount_%\": 25, \"In_Stock\": \"Yes\"},\n",
    "    {\"Product_ID\": \"P009\", \"Product_Name\": \"Classic Denim Jeans\", \"Category\": \"Clothing\", \"Brand\": \"DenimCo\", \"Price_USD\": 49.90, \"Stock\": 130, \"Rating\": 4.0, \"Launch_Date\": \"2024-03-27\", \"Discount_%\": 10, \"In_Stock\": \"Yes\"},\n",
    "    {\"Product_ID\": \"P010\", \"Product_Name\": \"Noise Cancelling Headphones\", \"Category\": \"Electronics\", \"Brand\": \"SonicMax\", \"Price_USD\": 129.00, \"Stock\": 40, \"Rating\": 4.8, \"Launch_Date\": \"2024-01-15\", \"Discount_%\": 8, \"In_Stock\": \"Yes\"},\n",
    "    {\"Product_ID\": \"P011\", \"Product_Name\": \"Scented Candle\", \"Category\": \"Home & Kitchen\", \"Brand\": \"PureGlow\", \"Price_USD\": 12.00, \"Stock\": 180, \"Rating\": 4.5, \"Launch_Date\": \"2024-07-11\", \"Discount_%\": 5, \"In_Stock\": \"Yes\"},\n",
    "    {\"Product_ID\": \"P012\", \"Product_Name\": \"Women’s Handbag\", \"Category\": \"Accessories\", \"Brand\": \"ModaLine\", \"Price_USD\": 79.99, \"Stock\": 50, \"Rating\": 4.6, \"Launch_Date\": \"2024-05-01\", \"Discount_%\": 15, \"In_Stock\": \"Yes\"},\n",
    "    {\"Product_ID\": \"P013\", \"Product_Name\": \"Yoga Mat (6mm)\", \"Category\": \"Sports\", \"Brand\": \"FlexPro\", \"Price_USD\": 29.99, \"Stock\": 90, \"Rating\": 4.4, \"Launch_Date\": \"2024-03-10\", \"Discount_%\": 0, \"In_Stock\": \"Yes\"},\n",
    "    {\"Product_ID\": \"P014\", \"Product_Name\": \"Beard Grooming Kit\", \"Category\": \"Beauty\", \"Brand\": \"KingBeard\", \"Price_USD\": 35.00, \"Stock\": 45, \"Rating\": 4.5, \"Launch_Date\": \"2023-10-30\", \"Discount_%\": 10, \"In_Stock\": \"Yes\"},\n",
    "    {\"Product_ID\": \"P015\", \"Product_Name\": \"LED Desk Lamp\", \"Category\": \"Home & Office\", \"Brand\": \"BrightLite\", \"Price_USD\": 27.50, \"Stock\": 140, \"Rating\": 4.3, \"Launch_Date\": \"2024-02-09\", \"Discount_%\": 12, \"In_Stock\": \"Yes\"},\n",
    "    {\"Product_ID\": \"P016\", \"Product_Name\": \"Women’s Sneakers\", \"Category\": \"Footwear\", \"Brand\": \"TrendStep\", \"Price_USD\": 59.99, \"Stock\": 65, \"Rating\": 4.2, \"Launch_Date\": \"2024-06-15\", \"Discount_%\": 20, \"In_Stock\": \"Yes\"},\n",
    "    {\"Product_ID\": \"P017\", \"Product_Name\": \"Laptop Backpack\", \"Category\": \"Accessories\", \"Brand\": \"GearUp\", \"Price_USD\": 44.90, \"Stock\": 75, \"Rating\": 4.4, \"Launch_Date\": \"2023-11-28\", \"Discount_%\": 10, \"In_Stock\": \"Yes\"},\n",
    "    {\"Product_ID\": \"P018\", \"Product_Name\": \"Hair Dryer\", \"Category\": \"Beauty\", \"Brand\": \"GlamPro\", \"Price_USD\": 56.00, \"Stock\": 55, \"Rating\": 4.6, \"Launch_Date\": \"2024-03-02\", \"Discount_%\": 5, \"In_Stock\": \"Yes\"},\n",
    "    {\"Product_ID\": \"P019\", \"Product_Name\": \"Organic Face Cream\", \"Category\": \"Beauty\", \"Brand\": \"NatureGlow\", \"Price_USD\": 32.00, \"Stock\": 70, \"Rating\": 4.7, \"Launch_Date\": \"2024-01-20\", \"Discount_%\": 8, \"In_Stock\": \"Yes\"},\n",
    "    {\"Product_ID\": \"P020\", \"Product_Name\": \"Wireless Keyboard\", \"Category\": \"Electronics\", \"Brand\": \"TypoTech\", \"Price_USD\": 45.00, \"Stock\": 115, \"Rating\": 4.3, \"Launch_Date\": \"2024-08-05\", \"Discount_%\": 15, \"In_Stock\": \"Yes\"}\n",
    "]\n"
   ]
  },
  {
   "cell_type": "code",
   "execution_count": 7,
   "id": "480844d6",
   "metadata": {},
   "outputs": [
    {
     "name": "stdout",
     "output_type": "stream",
     "text": [
      "{'Product_ID': 'P013', 'Product_Name': 'Yoga Mat (6mm)', 'Category': 'Sports', 'Brand': 'FlexPro', 'Price_USD': 29.99, 'Stock': 90, 'Rating': 4.4, 'Launch_Date': '2024-03-10', 'Discount_%': 0, 'In_Stock': 'Yes'}\n",
      "{'Product_ID': 'P016', 'Product_Name': 'Women’s Sneakers', 'Category': 'Footwear', 'Brand': 'TrendStep', 'Price_USD': 59.99, 'Stock': 65, 'Rating': 4.2, 'Launch_Date': '2024-06-15', 'Discount_%': 20, 'In_Stock': 'Yes'}\n",
      "{'Product_ID': 'P012', 'Product_Name': 'Women’s Handbag', 'Category': 'Accessories', 'Brand': 'ModaLine', 'Price_USD': 79.99, 'Stock': 50, 'Rating': 4.6, 'Launch_Date': '2024-05-01', 'Discount_%': 15, 'In_Stock': 'Yes'}\n",
      "{'Product_ID': 'P020', 'Product_Name': 'Wireless Keyboard', 'Category': 'Electronics', 'Brand': 'TypoTech', 'Price_USD': 45.0, 'Stock': 115, 'Rating': 4.3, 'Launch_Date': '2024-08-05', 'Discount_%': 15, 'In_Stock': 'Yes'}\n",
      "{'Product_ID': 'P001', 'Product_Name': 'Wireless Bluetooth Earbuds', 'Category': 'Electronics', 'Brand': 'SoundWave', 'Price_USD': 49.99, 'Stock': 120, 'Rating': 4.5, 'Launch_Date': '2024-03-12', 'Discount_%': 10, 'In_Stock': 'Yes'}\n",
      "{'Product_ID': 'P005', 'Product_Name': 'Stainless Steel Water Bottle', 'Category': 'Home & Kitchen', 'Brand': 'AquaPure', 'Price_USD': 24.99, 'Stock': 150, 'Rating': 4.6, 'Launch_Date': '2023-09-10', 'Discount_%': 10, 'In_Stock': 'Yes'}\n",
      "{'Product_ID': 'P002', 'Product_Name': 'Smart Fitness Watch', 'Category': 'Electronics', 'Brand': 'FitTrack', 'Price_USD': 89.5, 'Stock': 85, 'Rating': 4.3, 'Launch_Date': '2023-11-05', 'Discount_%': 5, 'In_Stock': 'Yes'}\n",
      "{'Product_ID': 'P011', 'Product_Name': 'Scented Candle', 'Category': 'Home & Kitchen', 'Brand': 'PureGlow', 'Price_USD': 12.0, 'Stock': 180, 'Rating': 4.5, 'Launch_Date': '2024-07-11', 'Discount_%': 5, 'In_Stock': 'Yes'}\n",
      "{'Product_ID': 'P008', 'Product_Name': 'Running Shoes', 'Category': 'Footwear', 'Brand': 'AeroStep', 'Price_USD': 64.99, 'Stock': 75, 'Rating': 4.3, 'Launch_Date': '2023-12-02', 'Discount_%': 25, 'In_Stock': 'Yes'}\n",
      "{'Product_ID': 'P019', 'Product_Name': 'Organic Face Cream', 'Category': 'Beauty', 'Brand': 'NatureGlow', 'Price_USD': 32.0, 'Stock': 70, 'Rating': 4.7, 'Launch_Date': '2024-01-20', 'Discount_%': 8, 'In_Stock': 'Yes'}\n",
      "{'Product_ID': 'P010', 'Product_Name': 'Noise Cancelling Headphones', 'Category': 'Electronics', 'Brand': 'SonicMax', 'Price_USD': 129.0, 'Stock': 40, 'Rating': 4.8, 'Launch_Date': '2024-01-15', 'Discount_%': 8, 'In_Stock': 'Yes'}\n",
      "{'Product_ID': 'P004', 'Product_Name': 'Leather Wallet', 'Category': 'Accessories', 'Brand': 'LuxeCraft', 'Price_USD': 39.99, 'Stock': 60, 'Rating': 4.4, 'Launch_Date': '2024-02-18', 'Discount_%': 15, 'In_Stock': 'Yes'}\n",
      "{'Product_ID': 'P017', 'Product_Name': 'Laptop Backpack', 'Category': 'Accessories', 'Brand': 'GearUp', 'Price_USD': 44.9, 'Stock': 75, 'Rating': 4.4, 'Launch_Date': '2023-11-28', 'Discount_%': 10, 'In_Stock': 'Yes'}\n",
      "{'Product_ID': 'P015', 'Product_Name': 'LED Desk Lamp', 'Category': 'Home & Office', 'Brand': 'BrightLite', 'Price_USD': 27.5, 'Stock': 140, 'Rating': 4.3, 'Launch_Date': '2024-02-09', 'Discount_%': 12, 'In_Stock': 'Yes'}\n",
      "{'Product_ID': 'P018', 'Product_Name': 'Hair Dryer', 'Category': 'Beauty', 'Brand': 'GlamPro', 'Price_USD': 56.0, 'Stock': 55, 'Rating': 4.6, 'Launch_Date': '2024-03-02', 'Discount_%': 5, 'In_Stock': 'Yes'}\n",
      "{'Product_ID': 'P007', 'Product_Name': 'Gaming Mouse RGB', 'Category': 'Electronics', 'Brand': 'HyperClick', 'Price_USD': 39.0, 'Stock': 110, 'Rating': 4.7, 'Launch_Date': '2024-04-07', 'Discount_%': 12, 'In_Stock': 'Yes'}\n",
      "{'Product_ID': 'P003', 'Product_Name': 'Cotton Crewneck T-Shirt', 'Category': 'Clothing', 'Brand': 'UrbanWear', 'Price_USD': 15.99, 'Stock': 200, 'Rating': 4.2, 'Launch_Date': '2024-05-20', 'Discount_%': 20, 'In_Stock': 'Yes'}\n",
      "{'Product_ID': 'P009', 'Product_Name': 'Classic Denim Jeans', 'Category': 'Clothing', 'Brand': 'DenimCo', 'Price_USD': 49.9, 'Stock': 130, 'Rating': 4.0, 'Launch_Date': '2024-03-27', 'Discount_%': 10, 'In_Stock': 'Yes'}\n",
      "{'Product_ID': 'P006', 'Product_Name': 'Ceramic Coffee Mug Set (4pcs)', 'Category': 'Home & Kitchen', 'Brand': 'CozyHome', 'Price_USD': 18.5, 'Stock': 95, 'Rating': 4.1, 'Launch_Date': '2024-06-22', 'Discount_%': 0, 'In_Stock': 'Yes'}\n",
      "{'Product_ID': 'P014', 'Product_Name': 'Beard Grooming Kit', 'Category': 'Beauty', 'Brand': 'KingBeard', 'Price_USD': 35.0, 'Stock': 45, 'Rating': 4.5, 'Launch_Date': '2023-10-30', 'Discount_%': 10, 'In_Stock': 'Yes'}\n"
     ]
    }
   ],
   "source": [
    "from operator import itemgetter\n",
    "\n",
    "\n",
    "def sort_by_category(dicts, key, reverse=False):\n",
    "    \"\"\"\n",
    "    Sort the DataFrame by the 'Category' column.\n",
    "    \"\"\"\n",
    "    \n",
    "    return sorted(dicts, key=itemgetter(key), reverse=reverse)\n",
    "\n",
    "# Sort the DataFrame by 'Category'\n",
    "sorted_product = sort_by_category(products, \"Product_Name\", reverse=True)\n",
    "for item in sorted_product:\n",
    "    print(item)\n",
    "    "
   ]
  },
  {
   "cell_type": "code",
   "execution_count": null,
   "id": "887e6bca",
   "metadata": {},
   "outputs": [],
   "source": []
  }
 ],
 "metadata": {
  "kernelspec": {
   "display_name": "base",
   "language": "python",
   "name": "python3"
  },
  "language_info": {
   "codemirror_mode": {
    "name": "ipython",
    "version": 3
   },
   "file_extension": ".py",
   "mimetype": "text/x-python",
   "name": "python",
   "nbconvert_exporter": "python",
   "pygments_lexer": "ipython3",
   "version": "3.11.5"
  }
 },
 "nbformat": 4,
 "nbformat_minor": 5
}
