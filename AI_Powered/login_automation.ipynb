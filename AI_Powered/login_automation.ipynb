{
 "cells": [
  {
   "cell_type": "markdown",
   "id": "4f9a14e5",
   "metadata": {},
   "source": [
    "# Automated Testing with AI"
   ]
  },
  {
   "cell_type": "code",
   "execution_count": null,
   "id": "19da946d",
   "metadata": {},
   "outputs": [],
   "source": [
    "# %pip install selenium"
   ]
  },
  {
   "cell_type": "code",
   "execution_count": null,
   "id": "0c3416d7",
   "metadata": {},
   "outputs": [],
   "source": [
    "from selenium import webdriver\n",
    "from selenium.webdriver.common.by import By\n",
    "from selenium.webdriver.chrome.options import Options\n",
    "from selenium.webdriver.support.ui import WebDriverWait\n",
    "from selenium.webdriver.support import expected_conditions as EC\n",
    "from webdriver_manager.chrome import ChromeDriverManager\n",
    "import time\n",
    "\n",
    "# Selenium-based login test (valid and invalid credentials)\n",
    "# Replace URL, selectors and credentials for your target app.\n",
    "\n",
    "def create_driver(headless=True):\n",
    "    opts = Options()\n",
    "    if headless:\n",
    "        opts.add_argument(\"--headless=new\")\n",
    "        opts.add_argument(\"--disable-gpu\")\n",
    "    opts.add_argument(\"--no-sandbox\")\n",
    "    opts.add_argument(\"--disable-dev-shm-usage\")\n",
    "    driver = webdriver.Chrome(ChromeDriverManager().install(), options=opts)\n",
    "    driver.set_window_size(1200, 800)\n",
    "    return driver\n",
    "\n",
    "def login_and_check(url, username, password, selectors, success_selector, timeout=8, headless=True):\n",
    "    \"\"\"\n",
    "    Attempts login and returns True if success_selector is found after login, else False.\n",
    "    selectors: dict with keys 'username', 'password', 'submit' (each a (By, value) tuple)\n",
    "    success_selector: (By, value) tuple expected to appear on successful login (e.g. logout button or dashboard)\n",
    "    \"\"\"\n",
    "    driver = create_driver(headless=headless)\n",
    "    try:\n",
    "        driver.get(url)\n",
    "        # fill username\n",
    "        WebDriverWait(driver, timeout).until(EC.presence_of_element_located(selectors['username'])).send_keys(username)\n",
    "        # fill password\n",
    "        WebDriverWait(driver, timeout).until(EC.presence_of_element_located(selectors['password'])).send_keys(password)\n",
    "        # click submit\n",
    "        submit_el = WebDriverWait(driver, timeout).until(EC.element_to_be_clickable(selectors['submit']))\n",
    "        submit_el.click()\n",
    "        # wait a short while for page to update\n",
    "        try:\n",
    "            WebDriverWait(driver, timeout).until(EC.presence_of_element_located(success_selector))\n",
    "            return True\n",
    "        except:\n",
    "            return False\n",
    "    finally:\n",
    "        time.sleep(0.5)\n",
    "        driver.quit()\n",
    "\n",
    "# Example configuration - MODIFY for your application\n",
    "login_url = \"https://academy.powerlearnprojectafrica.org/login\"  # change to real login page\n",
    "selectors = {\n",
    "    # common patterns: (By.ID, \"username\"), (By.NAME, \"username\"), (By.CSS_SELECTOR, \"input#user\")\n",
    "    \"username\": (By.ID, \"username\"),\n",
    "    \"password\": (By.ID, \"password\"),\n",
    "    \"submit\":   (By.CSS_SELECTOR, \"button[type='submit']\"),\n",
    "}\n",
    "# Element that indicates successful login (e.g., logout button or user profile)\n",
    "success_selector = (By.ID, \"logout\")  # change to a selector visible after successful login\n",
    "\n",
    "# Test credentials (change to valid/invalid credentials for your app)\n",
    "valid_creds = (\"valid_user\", \"valid_pass\")\n",
    "invalid_creds = (\"invalid_user\", \"wrong_pass\")\n",
    "\n",
    "# Run tests\n",
    "valid_result = login_and_check(login_url, valid_creds[0], valid_creds[1], selectors, success_selector, headless=True)\n",
    "invalid_result = login_and_check(login_url, invalid_creds[0], invalid_creds[1], selectors, success_selector, headless=True)\n",
    "\n",
    "print(f\"Valid credentials test: {'PASS' if valid_result else 'FAIL'}\")\n",
    "print(f\"Invalid credentials test: {'FAIL' if not invalid_result else 'UNEXPECTED PASS'}\")"
   ]
  }
 ],
 "metadata": {
  "kernelspec": {
   "display_name": "base",
   "language": "python",
   "name": "python3"
  },
  "language_info": {
   "codemirror_mode": {
    "name": "ipython",
    "version": 3
   },
   "file_extension": ".py",
   "mimetype": "text/x-python",
   "name": "python",
   "nbconvert_exporter": "python",
   "pygments_lexer": "ipython3",
   "version": "3.11.5"
  }
 },
 "nbformat": 4,
 "nbformat_minor": 5
}
